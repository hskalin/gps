{
 "cells": [
  {
   "cell_type": "code",
   "execution_count": 2,
   "metadata": {},
   "outputs": [],
   "source": [
    "import json\n",
    "import os\n",
    "import time\n",
    "from pix2tex import cli as pix2tex\n",
    "from PIL import Image\n",
    "model = pix2tex.LatexOCR()\n"
   ]
  },
  {
   "cell_type": "code",
   "execution_count": 14,
   "metadata": {},
   "outputs": [],
   "source": [
    "folder = '../detection_results/ocr_results'\n",
    "sub_folders = os.listdir(folder)"
   ]
  },
  {
   "cell_type": "code",
   "execution_count": null,
   "metadata": {},
   "outputs": [],
   "source": [
    "\n",
    "for sub_folder in sub_folders:\n",
    "    files = os.listdir(os.path.join(folder, sub_folder))\n",
    "    files = list(filter(lambda x: x.endswith('jpg'), files))\n",
    "    \n",
    "    for file in files:\n",
    "        path = os.path.join(folder, sub_folder, file)\n",
    "        '''\n",
    "        r = mathpix.latex({\n",
    "            'src': mathpix.image_uri(path),\n",
    "            'formats': ['latex_simplified']\n",
    "        })\n",
    "        '''\n",
    "        img = Image.open(path)\n",
    "\n",
    "        r = {'request_id':      \"id_number\",\n",
    "            'confidence':       1,\n",
    "            'confidence_rate':  1,\n",
    "            'text':             model(img),\n",
    "            'html':             '',\n",
    "            'data':             []\n",
    "            }\n",
    "            \n",
    "        res = json.dumps(r, indent=4, sort_keys=True)\n",
    "        # print(res['latex_simplified'])\n",
    "\n",
    "        id = os.path.splitext(file)[0]\n",
    "        with open(os.path.join(folder, sub_folder, id+'.json'), 'w') as f:\n",
    "            f.write(res)\n",
    "        print(os.path.join(folder, sub_folder, id+'.json'))\n",
    "        \n",
    "        time.sleep(1.5)\n"
   ]
  }
 ],
 "metadata": {
  "interpreter": {
   "hash": "3e08dfcb284fa8769777cef608ea8103f5d37732326af17254b43cc5e7093f4d"
  },
  "kernelspec": {
   "display_name": "Python 3.8.10 ('latex-ocr': venv)",
   "language": "python",
   "name": "python3"
  },
  "language_info": {
   "codemirror_mode": {
    "name": "ipython",
    "version": 3
   },
   "file_extension": ".py",
   "mimetype": "text/x-python",
   "name": "python",
   "nbconvert_exporter": "python",
   "pygments_lexer": "ipython3",
   "version": "3.8.10"
  },
  "orig_nbformat": 4
 },
 "nbformat": 4,
 "nbformat_minor": 2
}

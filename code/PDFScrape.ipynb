{
 "cells": [
  {
   "cell_type": "code",
   "execution_count": 1,
   "metadata": {},
   "outputs": [],
   "source": [
    "import fitz\n",
    "import pandas as pd\n",
    "import regex as re\n",
    "import json\n",
    "import os"
   ]
  },
  {
   "cell_type": "code",
   "execution_count": 7,
   "metadata": {},
   "outputs": [],
   "source": [
    "doc = fitz.open('ieep210.pdf')"
   ]
  },
  {
   "cell_type": "code",
   "execution_count": 5,
   "metadata": {},
   "outputs": [],
   "source": [
    "doc1 = fitz.open('NSTSE_Maths_compressed.pdf')"
   ]
  },
  {
   "cell_type": "code",
   "execution_count": 3,
   "metadata": {},
   "outputs": [
    {
     "data": {
      "text/plain": [
       "'<image: ICCBased(RGB,sRGB IEC61966-2.1), width: 520, height: 126, bpc: 8> hello <image: ICCBased(RGB,sRGB IEC61966-2.1), width: 520, height: 126, bpc: 8> hi'"
      ]
     },
     "execution_count": 3,
     "metadata": {},
     "output_type": "execute_result"
    }
   ],
   "source": [
    "string = '<image: ICCBased(RGB,sRGB IEC61966-2.1), width: 520, height: 126, bpc: 8> hello <image: ICCBased(RGB,sRGB IEC61966-2.1), width: 520, height: 126, bpc: 8> hi'\n",
    "sentence = re.sub(r\"<image: ICCBased\\(RGB,sRGB IEC61966-2.1\\), width: \\d+, height: \\d+, bpc: \\d+>\",\"\", string)\n",
    "re.sub(r\"a[0-9]b\",r\"a[0-9]b\",string)"
   ]
  },
  {
   "cell_type": "code",
   "execution_count": 51,
   "metadata": {},
   "outputs": [
    {
     "name": "stdout",
     "output_type": "stream",
     "text": [
      "$someXstring here inside$\n"
     ]
    }
   ],
   "source": [
    "st = \"$some\\string here inside$\"\n",
    "print(re.sub(r\"\\$.*\\\\.*\\$\",lambda  x: x.group().replace(\"\\\\\",\"X\"),st))"
   ]
  },
  {
   "cell_type": "code",
   "execution_count": 55,
   "metadata": {},
   "outputs": [
    {
     "name": "stdout",
     "output_type": "stream",
     "text": [
      "95o\n"
     ]
    }
   ],
   "source": [
    "st = \"g5o\"\n",
    "print(re.sub(r\"g\\do\",lambda  x: x.group().replace(\"g\",\"9\"),st))"
   ]
  },
  {
   "cell_type": "code",
   "execution_count": 10,
   "metadata": {},
   "outputs": [
    {
     "data": {
      "text/plain": [
       "4"
      ]
     },
     "execution_count": 10,
     "metadata": {},
     "output_type": "execute_result"
    }
   ],
   "source": [
    "dicto = {\"1\": [1], \"2\": [2], \"4\": [4], \"5\": [5]}\n",
    "len(dicto)"
   ]
  },
  {
   "cell_type": "code",
   "execution_count": 9,
   "metadata": {},
   "outputs": [
    {
     "data": {
      "text/plain": [
       "['CIRCLES10110. In Fig. 10.9, ∠AOB = 90º and ∠ABC = 30º, then ∠CAO is equal to:(A) 30º(B) 45º(C) 90º(D) 60ºFig. 10.9(C) Short Answer Questions with ReasoningWrite True or False and justify your answer.Sample Question 1: The angles subtended by a chord at any two points of a circleare equal.Solution : False. If two points lie in the same segment (major or minor) only, then theangles will be equal otherwise they are not equal.Sample Questions 2 : Two chords of a circle of lengths 10 cm and 8 cm are at thedistances 8.0 cm and 3.5 cm, respectively from the centre.Solution: False. As the larger chord is at smaller distance from the centre.EXERCISE 10.2Write True or False and justify your answer in each of the following:1.Two chords AB and CD of a circle are each at distances 4 cm from the centre.Then AB = CD.2.Two chords AB and AC of a circle with centre O are on the opposite sides of OA.Then ∠OAB = ∠OAC .3.Two congruent circles with centres O and O′ intersect at two points A and B.Then ∠AOB = ∠AO′B.4.Through three collinear points a circle can be drawn.5.A circle of radius 3 cm can be drawn through two points A, B such that AB = 6 cm.16/04/1816/04/18<image: DeviceGray, width: 2480, height: 3508, bpc: 1><image: DeviceGray, width: 1894, height: 1894, bpc: 1>']"
      ]
     },
     "execution_count": 9,
     "metadata": {},
     "output_type": "execute_result"
    }
   ],
   "source": [
    "page = doc[4]\n",
    "blocks = page.get_text(\"blocks\")\n",
    "block_list = [blocks[i][4] for i in range(len(blocks))]\n",
    "sentence_list = []\n",
    "for block in block_list:\n",
    "    block_n = block.replace(\"\\n\",\"\")\n",
    "    block_n = block_n.replace(\" ½o\",\".5\")\n",
    "    sentence = re.sub(r\"<image: ICCBased(RGB,sRGB IEC61966-2.1), width: \\d+, height: \\d+, bpc: \\d+>\",\"\", block_n)\n",
    "    sentence_list.append(sentence)\n",
    "text = \"\"\n",
    "for sentence in sentence_list:\n",
    "    text += sentence\n",
    "text_3 = [text]\n",
    "text_3"
   ]
  },
  {
   "cell_type": "code",
   "execution_count": 6,
   "metadata": {},
   "outputs": [
    {
     "data": {
      "text/plain": [
       "[\"Jl BMA's Talent & Olympiad Exams Resource Book Class IX- Mathematics A, B and C are the three angles of a triangle. If A - B = 15 and B - C = 30, find L A, L B and L C. (A) 90, 65,35 (B) 65, 90, 35 (C) 35, 90, 65 (D) 90, 35, 65 0 Consider the following statements. When two straight lines intersect: (i) adjacent angles are complementary (ii) adjacent angles are supplementary (iii) opposite angles are equal (iv) opposite angles are supplementary Which of the given statements is correct? (A) (i) and (iii) only (B) (ii) and (iii) only (C) (i) and (iv) only (D) (ii) and (iv) only • Two straight lines AB and CD intersect one another at point 0. If L AOC + L COB + L BOD= 274, find L AOD. • (A) 96 (B) 90 (C) 94 (D) 137 In the given figure, identify the pair of parallel lines. c (A) AB || EF (C) EF || BC F D (B) BC || CF (D) EF || CE In the given figure, AB || CD || EF and GH || KL. Find the measure of L HKL. L A B c D E F (A) 95 (B) 135 (C) 145 (D) 215 || • In the given figure, find the value of x. • • • (A) 12 (B) 15 (C) 20 (D) 300 In the given figure if l1 || l2' what is the value of x? (A) 37 (D) 95 In the given figure, if AB || PQ, PR || BC, and L QPR = 102, determine L ABC. (A) 102 (B) 190 (C) 79 (D) 120 In the given figure, PQ || RS, L AEF = 95, L BHS = 110, and L ABC = x 0 • Find the value of x. B c Q (A) 15 (B) 25 (C) 70 (D) 35 In the given figure, which two lines are parallel? (A) l, m (B) l, n (C) m, n (D) n, p 6. Lines and Angles \"]"
      ]
     },
     "execution_count": 6,
     "metadata": {},
     "output_type": "execute_result"
    }
   ],
   "source": [
    "page1 = doc1[46]\n",
    "blocks1 = page1.get_text(\"blocks\")\n",
    "block_list1 = [blocks1[i][4] for i in range(len(blocks1))]\n",
    "sentence_list1 = []\n",
    "for block in block_list1:\n",
    "    block_n = block.replace(\"\\n\",\"\")\n",
    "    # block_n = block_n.replace(\" ½o\",\".5\")\n",
    "    sentence = re.sub(r\"<image: DeviceRGB, width: \\d+, height: \\d+, bpc: \\d+>\",\"\", block_n)\n",
    "    sentence = re.sub(r\"<image: Indexed\\(\\d+,ICCBased\\(RGB,sRGB IEC61966-2.1\\)\\), width: \\d+, height: \\d+, bpc: \\d+>\", \"\", sentence)\n",
    "    sentence = re.sub(\"°\",\"\",sentence)\n",
    "    sentence = re.sub(\"goo\",\"90\",sentence)\n",
    "    sentence = re.sub(r\"II\",r\"||\",sentence)\n",
    "    sentence = re.sub(r\"g\\d*o\",lambda  x: x.group().replace(\"g\",\"9\"),sentence)\n",
    "    sentence = re.sub(r\"\\d+o\",lambda  x: x.group().replace(\"o\",\"\"),sentence)\n",
    "    sentence = re.sub(\"ofx\",\"of x\",sentence)\n",
    "    sentence = re.sub(\"ofy\",\"of y\",sentence)\n",
    "    sentence = re.sub(\"ang les\",\"angles\",sentence)\n",
    "    sentence = re.sub(\"anot her\",\"another\",sentence)\n",
    "    sentence = re.sub(\"st raight\",\"straight\",sentence)\n",
    "    # sentence = re.sub(r\"L\\s\",r\"∠\\s\",sentence)\n",
    "    sentence_list1.append(sentence)\n",
    "\n",
    "text1 = \"\"\n",
    "for sentence in sentence_list1:\n",
    "    text1 += sentence\n",
    "text_ = [text1]\n",
    "text_"
   ]
  },
  {
   "cell_type": "code",
   "execution_count": 76,
   "metadata": {},
   "outputs": [
    {
     "name": "stdout",
     "output_type": "stream",
     "text": [
      "7\n",
      "10\n",
      "10\n"
     ]
    },
    {
     "ename": "AssertionError",
     "evalue": "no. of index pairs must match",
     "output_type": "error",
     "traceback": [
      "\u001b[0;31m---------------------------------------------------------------------------\u001b[0m",
      "\u001b[0;31mAssertionError\u001b[0m                            Traceback (most recent call last)",
      "\u001b[1;32m/home/shreyas/VSCode Progs/Python Progs/PDFScrape.ipynb Cell 9'\u001b[0m in \u001b[0;36m<cell line: 10>\u001b[0;34m()\u001b[0m\n\u001b[1;32m      <a href='vscode-notebook-cell:/home/shreyas/VSCode%20Progs/Python%20Progs/PDFScrape.ipynb#ch0000004?line=7'>8</a>\u001b[0m \u001b[39mprint\u001b[39m(\u001b[39mlen\u001b[39m(match_idx_mid))\n\u001b[1;32m      <a href='vscode-notebook-cell:/home/shreyas/VSCode%20Progs/Python%20Progs/PDFScrape.ipynb#ch0000004?line=8'>9</a>\u001b[0m \u001b[39mprint\u001b[39m(\u001b[39mlen\u001b[39m(match_idx_end))\n\u001b[0;32m---> <a href='vscode-notebook-cell:/home/shreyas/VSCode%20Progs/Python%20Progs/PDFScrape.ipynb#ch0000004?line=9'>10</a>\u001b[0m \u001b[39massert\u001b[39;00m (\u001b[39mlen\u001b[39m(match_idx_start)  \u001b[39m==\u001b[39m \u001b[39mlen\u001b[39m(match_idx_mid) \u001b[39mand\u001b[39;00m \u001b[39mlen\u001b[39m(match_idx_mid) \u001b[39m==\u001b[39m \u001b[39mlen\u001b[39m(match_idx_end)), \u001b[39m\"\u001b[39m\u001b[39mno. of index pairs must match\u001b[39m\u001b[39m\"\u001b[39m\n",
      "\u001b[0;31mAssertionError\u001b[0m: no. of index pairs must match"
     ]
    }
   ],
   "source": [
    "regex_start = 'In'\n",
    "regex_mid = r'\\(A\\)'\n",
    "regex_end = r'\\(D\\)\\s'\n",
    "match_idx_start = [(m.start(),m.end()) for m in re.finditer(regex_start,text1)]\n",
    "match_idx_mid = [(m.start(),m.end()) for m in re.finditer(regex_mid,text1)]\n",
    "match_idx_end = [(m.start(),m.end()) for m in re.finditer(regex_end,text1)]\n",
    "print(len(match_idx_start))\n",
    "print(len(match_idx_mid))\n",
    "print(len(match_idx_end))\n",
    "assert (len(match_idx_start)  == len(match_idx_mid) and len(match_idx_mid) == len(match_idx_end)), \"no. of index pairs must match\""
   ]
  },
  {
   "cell_type": "code",
   "execution_count": 77,
   "metadata": {},
   "outputs": [
    {
     "name": "stdout",
     "output_type": "stream",
     "text": [
      "[(721, 723), (837, 839), (964, 966), (1041, 1043), (1112, 1114), (1221, 1223), (1350, 1352)]\n",
      "[(169, 172), (490, 493), (692, 695), (781, 784), (928, 931), (1012, 1015), (1098, 1101), (1190, 1193), (1322, 1325), (1401, 1404)]\n"
     ]
    }
   ],
   "source": [
    "print(match_idx_start)\n",
    "print(match_idx_mid)"
   ]
  },
  {
   "cell_type": "code",
   "execution_count": 25,
   "metadata": {},
   "outputs": [],
   "source": [
    "questions, choices = [], []"
   ]
  },
  {
   "cell_type": "code",
   "execution_count": 34,
   "metadata": {},
   "outputs": [
    {
     "name": "stdout",
     "output_type": "stream",
     "text": [
      "question : If radii of two concentric circles are 4 cm and 5 cm, then the length of each chord of one circle  which is tangent to the other circle is  \n",
      "option : ['3', '6', '9', '1']\n",
      "question : In Fig. 9.3, if AOB = 125°, then COD is equal to  \n",
      "option : ['62.5', '45', '35', '5']\n"
     ]
    }
   ],
   "source": [
    "for i in range(len(match_idx_start)):\n",
    "    q_s = match_idx_start[i][1]\n",
    "    q_f = match_idx_mid[i][0]\n",
    "    a_s = match_idx_mid[i][1]\n",
    "    a_f = match_idx_end[i][1]\n",
    "\n",
    "    question = text[q_s:q_f]\n",
    "    option = re.findall(r'[-+]?(?:\\d*\\.\\d+|\\d+)',text[a_s:a_f])\n",
    "    print(\"question : %s\" % question)\n",
    "    print(\"option : %s\" % option)\n",
    "    questions.append(question)\n",
    "    choices.append(option)"
   ]
  },
  {
   "cell_type": "code",
   "execution_count": 3,
   "metadata": {},
   "outputs": [],
   "source": [
    "json_template = {\n",
    "    \"problem_text\": \"\",\n",
    "    \"choices\": [],\n",
    "    \"answer\": \"\",\n",
    "    \"detailed_solution\": \" \",\n",
    "    \"problem_type_graph\": [],\n",
    "    \"problem_type_goal\": [],\n",
    "    \"source\": \"\",\n",
    "    \"comment\": \"\",\n",
    "    \"id\": 0,\n",
    "    \"annot_id\": \"\",\n",
    "    \"is_standard\": \"\",\n",
    "    \"compact_choices\": [],\n",
    "    \"precise_value\": [],\n",
    "    \"rough_value\": [],\n",
    "    \"compact_text\": \"\",\n",
    "    \"annotat_text\": \"\",\n",
    "    \"unit\": \"\",\n",
    "    \"img_width\": 0,\n",
    "    \"img_height\": 0,\n",
    "    \"data_type\": \"\",\n",
    "    \"date\": \"\",\n",
    "    \"system\": \"\"\n",
    "\n",
    "}"
   ]
  },
  {
   "cell_type": "code",
   "execution_count": 4,
   "metadata": {},
   "outputs": [],
   "source": [
    "def save_data(questions, choices, output_dir):\n",
    "\n",
    "    global idx\n",
    "    for i in range(len(questions)):\n",
    "        json_file = json_template\n",
    "        question = questions[i]\n",
    "        option = choices[i]\n",
    "        json_file['problem_text'] = question\n",
    "        json_file['id'] = str(idx)\n",
    "        json_file['choices'] = json_file['compact_choices'] = option\n",
    "        json_file['precise_value'] = [float(op) for op in option]\n",
    "        json_file['rough_value'] = [int(op) if float(op).is_integer() else float(op) for op in option]\n",
    "        json_file['date'] = \"23-05-2022\"\n",
    "        json_file['system'] = \"linux\"\n",
    "        OUTPUT_FILE = os.path.join(output_dir,str(idx),'data.json')\n",
    "        idx += 1\n",
    "        \n",
    "        os.makedirs(os.path.dirname(OUTPUT_FILE), exist_ok=True)\n",
    "        with open(OUTPUT_FILE, 'w') as f:\n",
    "            json.dump(json_file, f, indent = 2, separators=(',', ': '))\n",
    "\n",
    "    "
   ]
  },
  {
   "cell_type": "code",
   "execution_count": 5,
   "metadata": {},
   "outputs": [],
   "source": [
    "def extract_and_save_data(doc, page_list):\n",
    "\n",
    "    text = \"\"\n",
    "    for page_no in page_list:\n",
    "\n",
    "        id = page_no - 1\n",
    "        page = doc[id]\n",
    "        blocks = page.get_text(\"blocks\")\n",
    "        block_list = [blocks[i][4] for i in range(len(blocks))]\n",
    "        sentence_list = []\n",
    "        for block in block_list:\n",
    "            block_n = block.replace(\"\\n\",\"\")\n",
    "            sentence = re.sub(r\"<image: DeviceRGB, width: \\d+, height: \\d+, bpc: \\d+>\",\"\", block_n)\n",
    "            sentence_list.append(sentence)\n",
    "\n",
    "        for sentence in sentence_list:\n",
    "            text += sentence\n",
    "\n",
    "    regex_start = r'\\d\\.\\s'\n",
    "    regex_mid = r'\\(A\\)'\n",
    "    regex_end = r'\\(D\\)\\s\\d'\n",
    "    match_idx_start = [(m.start(),m.end()) for m in re.finditer(regex_start,text)]\n",
    "    match_idx_mid = [(m.start(),m.end()) for m in re.finditer(regex_mid,text)]\n",
    "    match_idx_end = [(m.start(),m.end()) for m in re.finditer(regex_end,text)]\n",
    "    # print(\"PAGE NO. : %d\" % page_no)\n",
    "\n",
    "    try:\n",
    "        assert (len(match_idx_start)  == len(match_idx_mid) and len(match_idx_mid) == len(match_idx_end))\n",
    "            \n",
    "    except AssertionError:\n",
    "        print(\"no. of index pairs must match\")\n",
    "\n",
    "    questions, choices = [], []\n",
    "        \n",
    "    for i in range(len(match_idx_start)):\n",
    "        q_s = match_idx_start[i][1]\n",
    "        q_f = match_idx_mid[i][0]\n",
    "        a_s = match_idx_mid[i][1]\n",
    "        a_f = match_idx_end[i][1]\n",
    "\n",
    "        question = text[q_s:q_f]\n",
    "        option = re.findall(r'[-+]?(?:\\d*\\.\\d+|\\d+)',text[a_s:a_f])\n",
    "        print(\"question : %s\" % question)\n",
    "        print(\"option : %s\" % option)\n",
    "        questions.append(question)\n",
    "        choices.append(option)\n",
    "\n",
    "    save_data(questions, choices, './data')\n",
    "        "
   ]
  },
  {
   "cell_type": "code",
   "execution_count": 6,
   "metadata": {},
   "outputs": [],
   "source": [
    "idx = 22"
   ]
  },
  {
   "cell_type": "code",
   "execution_count": 8,
   "metadata": {},
   "outputs": [
    {
     "name": "stdout",
     "output_type": "stream",
     "text": [
      "no. of index pairs must match\n",
      "question : In Fig. 6.1, if AB || CD || EF, PQ || RS, ∠RQD = 25° and ∠CQP = 60°, then ∠QRS is equal to \n",
      "option : ['85', '135', '145', '1']\n",
      "question : If one angle of a triangle is equal to the sum of the other two angles, then the triangle is \n",
      "option : ['1', '180', '2', '1', '2', '180', '2', '180', '180', '2', '90', '90', '3', '105', '37', '52', '72', '7']\n"
     ]
    },
    {
     "ename": "IndexError",
     "evalue": "list index out of range",
     "output_type": "error",
     "traceback": [
      "\u001b[0;31m---------------------------------------------------------------------------\u001b[0m",
      "\u001b[0;31mIndexError\u001b[0m                                Traceback (most recent call last)",
      "\u001b[1;32m/home/shreyas/VSCode Progs/Python Progs/PDFScrape.ipynb Cell 13'\u001b[0m in \u001b[0;36m<cell line: 3>\u001b[0;34m()\u001b[0m\n\u001b[1;32m      <a href='vscode-notebook-cell:/home/shreyas/VSCode%20Progs/Python%20Progs/PDFScrape.ipynb#ch0000011?line=0'>1</a>\u001b[0m doc \u001b[39m=\u001b[39m fitz\u001b[39m.\u001b[39mopen(\u001b[39m'\u001b[39m\u001b[39mclass-9-maths-chapter-6.pdf\u001b[39m\u001b[39m'\u001b[39m)\n\u001b[1;32m      <a href='vscode-notebook-cell:/home/shreyas/VSCode%20Progs/Python%20Progs/PDFScrape.ipynb#ch0000011?line=1'>2</a>\u001b[0m page_list \u001b[39m=\u001b[39m [\u001b[39m1\u001b[39m,\u001b[39m2\u001b[39m]\n\u001b[0;32m----> <a href='vscode-notebook-cell:/home/shreyas/VSCode%20Progs/Python%20Progs/PDFScrape.ipynb#ch0000011?line=2'>3</a>\u001b[0m extract_and_save_data(doc, page_list)\n",
      "\u001b[1;32m/home/shreyas/VSCode Progs/Python Progs/PDFScrape.ipynb Cell 11'\u001b[0m in \u001b[0;36mextract_and_save_data\u001b[0;34m(doc, page_list)\u001b[0m\n\u001b[1;32m     <a href='vscode-notebook-cell:/home/shreyas/VSCode%20Progs/Python%20Progs/PDFScrape.ipynb#ch0000009?line=36'>37</a>\u001b[0m q_f \u001b[39m=\u001b[39m match_idx_mid[i][\u001b[39m0\u001b[39m]\n\u001b[1;32m     <a href='vscode-notebook-cell:/home/shreyas/VSCode%20Progs/Python%20Progs/PDFScrape.ipynb#ch0000009?line=37'>38</a>\u001b[0m a_s \u001b[39m=\u001b[39m match_idx_mid[i][\u001b[39m1\u001b[39m]\n\u001b[0;32m---> <a href='vscode-notebook-cell:/home/shreyas/VSCode%20Progs/Python%20Progs/PDFScrape.ipynb#ch0000009?line=38'>39</a>\u001b[0m a_f \u001b[39m=\u001b[39m match_idx_end[i][\u001b[39m1\u001b[39m]\n\u001b[1;32m     <a href='vscode-notebook-cell:/home/shreyas/VSCode%20Progs/Python%20Progs/PDFScrape.ipynb#ch0000009?line=40'>41</a>\u001b[0m question \u001b[39m=\u001b[39m text[q_s:q_f]\n\u001b[1;32m     <a href='vscode-notebook-cell:/home/shreyas/VSCode%20Progs/Python%20Progs/PDFScrape.ipynb#ch0000009?line=41'>42</a>\u001b[0m option \u001b[39m=\u001b[39m re\u001b[39m.\u001b[39mfindall(\u001b[39mr\u001b[39m\u001b[39m'\u001b[39m\u001b[39m[-+]?(?:\u001b[39m\u001b[39m\\\u001b[39m\u001b[39md*\u001b[39m\u001b[39m\\\u001b[39m\u001b[39m.\u001b[39m\u001b[39m\\\u001b[39m\u001b[39md+|\u001b[39m\u001b[39m\\\u001b[39m\u001b[39md+)\u001b[39m\u001b[39m'\u001b[39m,text[a_s:a_f])\n",
      "\u001b[0;31mIndexError\u001b[0m: list index out of range"
     ]
    }
   ],
   "source": [
    "doc = fitz.open('NSTSE_Maths.pdf')\n",
    "page_list = [1,2]\n",
    "extract_and_save_data(doc, page_list)"
   ]
  }
 ],
 "metadata": {
  "interpreter": {
   "hash": "916dbcbb3f70747c44a77c7bcd40155683ae19c65e1c03b4aa3499c5328201f1"
  },
  "kernelspec": {
   "display_name": "Python 3.8.10 64-bit",
   "language": "python",
   "name": "python3"
  },
  "language_info": {
   "codemirror_mode": {
    "name": "ipython",
    "version": 3
   },
   "file_extension": ".py",
   "mimetype": "text/x-python",
   "name": "python",
   "nbconvert_exporter": "python",
   "pygments_lexer": "ipython3",
   "version": "3.8.10"
  },
  "orig_nbformat": 4
 },
 "nbformat": 4,
 "nbformat_minor": 2
}
